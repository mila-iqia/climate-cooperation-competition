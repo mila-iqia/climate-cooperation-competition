{
 "cells": [
  {
   "cell_type": "code",
   "execution_count": 1,
   "metadata": {},
   "outputs": [],
   "source": [
    "%load_ext autoreload\n",
    "%autoreload 2\n"
   ]
  },
  {
   "cell_type": "code",
   "execution_count": 2,
   "metadata": {},
   "outputs": [
    {
     "name": "stderr",
     "output_type": "stream",
     "text": [
      "\n"
     ]
    }
   ],
   "source": [
    "from rice import Rice\n",
    "import numpy as np\n",
    "\n",
    "\"\"\" SIMULATIONS\"\"\"\n",
    "var_name_mapping = {\n",
    "    \"global_temperature\": \"Global Temperature\",\n",
    "    \"global_carbon_mass\": \"Global Carbon Mass\",\n",
    "    \"gross_output_all_regions\": \"Global Gross Output\",\n",
    "    \"capital_all_regions\": \"Global Capital\",\n",
    "    \"aggregate_consumption\": \"Global Consumption\",\n",
    "    \"utility_all_regions\": \"Total Utility\",\n",
    "    \"damages_all_regions\": \"Mean Region Damage\",\n",
    "}\n",
    "\n",
    "tracked_vars = list(var_name_mapping.keys())\n",
    "\n",
    "rice_env = Rice()\n",
    "rice_env.reset()\n",
    "total_actions = rice_env.total_possible_actions\n",
    "regions = list(range(rice_env.num_regions))\n",
    "\n",
    "class RiceAction:\n",
    "    def __init__(self, dict):\n",
    "        self.actions = np.zeros(len(total_actions))\n",
    "\n",
    "        for k, v in dict.items():\n",
    "            start_idx = rice_env.get_actions_index(k)\n",
    "            end_idx = start_idx + rice_env.get_actions_len(k)\n",
    "            self.actions[start_idx:end_idx] = v\n",
    "\n",
    "def run_simulations(env, dmg_function_name, mitigation_rates, savings_rate):\n",
    "    data = []\n",
    "    env.reset()\n",
    "    for mitigation_rate in mitigation_rates:\n",
    "        while True:\n",
    "            ind_actions = RiceAction({\n",
    "                \"savings\": savings_rate,\n",
    "                \"mitigation_rate\": mitigation_rate\n",
    "            }).actions\n",
    "\n",
    "            actions = {region_id: ind_actions for region_id in regions}\n",
    "            obs, rew, done, truncated, info = env.step(actions)\n",
    "            if done[\"__all__\"]:\n",
    "                env.reset()\n",
    "                break\n",
    "\n",
    "            current_timestep = env.current_timestep\n",
    "            for var in tracked_vars:\n",
    "                val = env.get_state(var)\n",
    "\n",
    "                if var == \"global_temperature\":\n",
    "                    val = val[0]\n",
    "                elif var == \"global_carbon_mass\":\n",
    "                    val = np.sum(val).item()\n",
    "                elif var in [\"gross_output_all_regions\", \"capital_all_regions\", \"aggregate_consumption\", \"utility_all_regions\"]:\n",
    "                    val = np.sum(val).item()\n",
    "                elif var == \"damages_all_regions\":\n",
    "                    val = np.mean(val)\n",
    "\n",
    "                data.append({\n",
    "                    \"Mitigation rate\": mitigation_rate,\n",
    "                    \"Savings rate\": savings_rate,\n",
    "                    \"Value\": val,\n",
    "                    \"Variable\": var_name_mapping[var],\n",
    "                    \"Damage function\": dmg_function_name,\n",
    "                    \"Year\": current_timestep * 5,\n",
    "                })\n",
    "    return data\n"
   ]
  },
  {
   "cell_type": "code",
   "execution_count": 3,
   "metadata": {},
   "outputs": [],
   "source": [
    "import seaborn as sns\n",
    "import matplotlib.pyplot as plt\n",
    "import pandas as pd\n",
    "import ipywidgets as widgets\n",
    "from matplotlib.lines import Line2D\n",
    "\n",
    "\n",
    "\n",
    "palette = sns.color_palette(\"rocket\", as_cmap=True)\n",
    "\n",
    "def plot_df(df, selected_model=None):\n",
    "    fig, axes = plt.subplots(2, 3, figsize=(16, 10))\n",
    "    model_versions = df[\"Damage function\"].unique()\n",
    "\n",
    "    def plot_var(df, var_name, ax, alpha, linestyle=\"-\"):\n",
    "        sns.lineplot(df[(df[\"Variable\"] == var_name)], x=\"Year\", y=\"Value\", hue=\"Mitigation rate\", linestyle=linestyle, ax=ax, palette=palette, alpha=alpha)\n",
    "        ax.set_ylabel(var_name)\n",
    "\n",
    "    for model_version in model_versions:\n",
    "        if selected_model == model_version or selected_model == \"All\":\n",
    "            alpha = 1\n",
    "        else:\n",
    "            alpha = 0.3\n",
    "\n",
    "        linestyle = \"-\" if model_version == \"Base\" else \"--\"\n",
    "\n",
    "        curr_df = df[df[\"Damage function\"] == model_version]\n",
    "        plot_var(curr_df, \"Global Temperature\", axes[0, 0], alpha=alpha, linestyle=linestyle)\n",
    "        plot_var(curr_df, \"Global Carbon Mass\", axes[0, 1], alpha=alpha, linestyle=linestyle)\n",
    "        plot_var(curr_df, \"Mean Region Damage\", axes[0, 2], alpha=alpha, linestyle=linestyle)\n",
    "\n",
    "        plot_var(curr_df, \"Global Capital\", axes[1, 0], alpha=alpha, linestyle=linestyle)\n",
    "        plot_var(curr_df, \"Global Gross Output\", axes[1, 1], alpha=alpha, linestyle=linestyle)\n",
    "        plot_var(curr_df, \"Global Consumption\", axes[1, 2], alpha=alpha, linestyle=linestyle)\n",
    "\n",
    "    # Legend\n",
    "    legend_handles, legend_labels = axes[0, 0].get_legend_handles_labels()\n",
    "    for row in axes:\n",
    "        for ax in row:\n",
    "            ax.legend_.remove()\n",
    "\n",
    "    num_mitigations = len(df[\"Mitigation rate\"].unique())\n",
    "    fig.legend([Line2D([0], [0], linestyle=\"\")] + legend_handles[:num_mitigations], [\"Mitigation rate\"] + legend_labels, loc=\"upper center\",  ncol=15, bbox_to_anchor=(0.5, 0.92))\n",
    "\n",
    "# plot_df(df, \"Base\")\n"
   ]
  },
  {
   "cell_type": "code",
   "execution_count": 4,
   "metadata": {},
   "outputs": [
    {
     "data": {
      "application/vnd.jupyter.widget-view+json": {
       "model_id": "ce4d1a3defa649cc88bd15591cd8c443",
       "version_major": 2,
       "version_minor": 0
      },
      "text/plain": [
       "interactive(children=(ToggleButtons(description='Damage Function', options=('Base', 'Updated'), value='Base'),…"
      ]
     },
     "metadata": {},
     "output_type": "display_data"
    },
    {
     "data": {
      "text/plain": [
       "<function __main__.<lambda>(selected_model)>"
      ]
     },
     "execution_count": 4,
     "metadata": {},
     "output_type": "execute_result"
    }
   ],
   "source": [
    "\"\"\" MAIN \"\"\"\n",
    "MITIGATION_RATES = [0, 2, 4, 6, 8, 9, 10]\n",
    "SAVINGS_RATE = 2\n",
    "MODEL_VERSIONS = [\"Base\", \"Updated\"]\n",
    "\n",
    "# Simulations\n",
    "all_data = []\n",
    "for model_version in MODEL_VERSIONS:\n",
    "    rice = Rice(dmg_function=model_version)\n",
    "    sim_data = run_simulations(rice, model_version, MITIGATION_RATES, SAVINGS_RATE) # Returns a list\n",
    "    all_data += sim_data\n",
    "\n",
    "# Plotting\n",
    "df = pd.DataFrame(all_data)\n",
    "model_version_button = widgets.ToggleButtons(\n",
    "    options=MODEL_VERSIONS,\n",
    "    description=\"Damage Function\",\n",
    "    button_style=\"\",\n",
    ")\n",
    "widgets.interact(lambda selected_model: plot_df(df, selected_model), selected_model=model_version_button)\n"
   ]
  }
 ],
 "metadata": {
  "kernelspec": {
   "display_name": "env",
   "language": "python",
   "name": "python3"
  },
  "language_info": {
   "codemirror_mode": {
    "name": "ipython",
    "version": 3
   },
   "file_extension": ".py",
   "mimetype": "text/x-python",
   "name": "python",
   "nbconvert_exporter": "python",
   "pygments_lexer": "ipython3",
   "version": "3.7.6"
  }
 },
 "nbformat": 4,
 "nbformat_minor": 2
}
